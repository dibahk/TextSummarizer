{
 "cells": [
  {
   "cell_type": "code",
   "execution_count": 1,
   "id": "06742c35",
   "metadata": {},
   "outputs": [
    {
     "data": {
      "text/plain": [
       "'diba'"
      ]
     },
     "execution_count": 1,
     "metadata": {},
     "output_type": "execute_result"
    }
   ],
   "source": [
    "dict_info = {\"name\": \"diba\", \"lastname\": \"HK\"}\n",
    "dict_info[\"name\"]"
   ]
  },
  {
   "cell_type": "code",
   "execution_count": 2,
   "id": "3c1f222c",
   "metadata": {},
   "outputs": [],
   "source": [
    "from box import ConfigBox\n",
    "dict_info = ConfigBox({\"name\": \"diba\", \"lastname\": \"HK\"})"
   ]
  },
  {
   "cell_type": "code",
   "execution_count": null,
   "id": "30a3f39e",
   "metadata": {},
   "outputs": [],
   "source": []
  }
 ],
 "metadata": {
  "kernelspec": {
   "display_name": "Python 3",
   "language": "python",
   "name": "python3"
  },
  "language_info": {
   "codemirror_mode": {
    "name": "ipython",
    "version": 3
   },
   "file_extension": ".py",
   "mimetype": "text/x-python",
   "name": "python",
   "nbconvert_exporter": "python",
   "pygments_lexer": "ipython3",
   "version": "3.10.18"
  }
 },
 "nbformat": 4,
 "nbformat_minor": 5
}
